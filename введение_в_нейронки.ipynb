{
  "nbformat": 4,
  "nbformat_minor": 0,
  "metadata": {
    "colab": {
      "name": "введение в нейронки.ipynb",
      "provenance": [],
      "collapsed_sections": [],
      "authorship_tag": "ABX9TyPIyyFALAh3DtJ4Q9lHguep",
      "include_colab_link": true
    },
    "kernelspec": {
      "name": "python3",
      "display_name": "Python 3"
    },
    "accelerator": "GPU"
  },
  "cells": [
    {
      "cell_type": "markdown",
      "metadata": {
        "id": "view-in-github",
        "colab_type": "text"
      },
      "source": [
        "<a href=\"https://colab.research.google.com/github/gusujio/neural_networks_start/blob/master/%D0%B2%D0%B2%D0%B5%D0%B4%D0%B5%D0%BD%D0%B8%D0%B5_%D0%B2_%D0%BD%D0%B5%D0%B9%D1%80%D0%BE%D0%BD%D0%BA%D0%B8.ipynb\" target=\"_parent\"><img src=\"https://colab.research.google.com/assets/colab-badge.svg\" alt=\"Open In Colab\"/></a>"
      ]
    },
    {
      "cell_type": "code",
      "metadata": {
        "id": "UH7XpFj4UH3H",
        "colab_type": "code",
        "colab": {}
      },
      "source": [
        "import numpy as np\n",
        "\n",
        "import torch\n"
      ],
      "execution_count": null,
      "outputs": []
    },
    {
      "cell_type": "code",
      "metadata": {
        "id": "LHI8YYtZfVq5",
        "colab_type": "code",
        "colab": {}
      },
      "source": [
        ""
      ],
      "execution_count": null,
      "outputs": []
    },
    {
      "cell_type": "code",
      "metadata": {
        "id": "Rmesl4QseE4X",
        "colab_type": "code",
        "colab": {
          "base_uri": "https://localhost:8080/",
          "height": 68
        },
        "outputId": "4fa86a65-494c-4cfb-e03e-11d2a417b750"
      },
      "source": [
        "x = torch.tensor(\n",
        "    [[1.,  2.,  3.,  4.],\n",
        "     [5.,  6.,  7.,  8.],\n",
        "     [9., 10., 11., 12.]], requires_grad=True) # requires_grad значит, что это переменная по которой можно посчитать производную, а не какая-то константа \n",
        "\n",
        "########\n",
        "# device = torch.device('cuda:0' # перходит с  cpu на gpu\n",
        "#                       if torch.cuda.is_available() \n",
        "#                       else 'cpu')\n",
        "# x = x.to(device)\n",
        "########\n",
        "\n",
        "function = 10 * (x ** 2).sum()\n",
        "\n",
        "function.backward() # считает производную\n",
        "\n",
        "print(x.grad, '<- gradient') # x.grad печатаем результат, а т.е градиент \n",
        "# тут надо понимать, что берём мы производную от функции, а результат этой\n",
        "# производной, результат операции \"backward\" у нас появляется в атрибуте \".grad\" тензора.\n",
        "\n",
        "x.data -= 0.001 * x.grad\n",
        "x.grad.zero_()\n",
        "#  Метод \"zero_\" с нижним подчеркиваем нам обнулит весь градиент.\n",
        "#  в PyTorch очень часто используются функции с нижним подчеркиваем на конце, они значат \"inplace\" операция"
      ],
      "execution_count": null,
      "outputs": [
        {
          "output_type": "stream",
          "text": [
            "tensor([[ 20.,  40.,  60.,  80.],\n",
            "        [100., 120., 140., 160.],\n",
            "        [180., 200., 220., 240.]]) <- gradient\n"
          ],
          "name": "stdout"
        }
      ]
    },
    {
      "cell_type": "code",
      "metadata": {
        "id": "vnF3x6sr6n4P",
        "colab_type": "code",
        "colab": {}
      },
      "source": [
        "import torch\n",
        "\n",
        "x = torch.tensor(\n",
        "    [8., 8.], requires_grad=True)\n",
        "var_history = []\n",
        "fn_history = []\n",
        "\n",
        "def function_parabola(variable):\n",
        "    return 10 * (variable ** 2).sum()\n",
        "\n",
        "def make_gradient_step(function, variable):\n",
        "    function_result = function(variable)\n",
        "    function_result.backward()\n",
        "    variable.data -= 0.001 * variable.grad\n",
        "    variable.grad.zero_()\n",
        "\n",
        "for i in range(500):\n",
        "    var_history.append(x.data.cpu().numpy().copy())\n",
        "    fn_history.append(function_parabola(x).data.cpu().numpy().copy())\n",
        "    make_gradient_step(function_parabola, x)"
      ],
      "execution_count": null,
      "outputs": []
    },
    {
      "cell_type": "code",
      "metadata": {
        "id": "24kFNsp_Ogkf",
        "colab_type": "code",
        "colab": {
          "base_uri": "https://localhost:8080/",
          "height": 282
        },
        "outputId": "0116f205-4787-4141-aff4-a29e0ac173c7"
      },
      "source": [
        "from math import exp\n",
        "import matplotlib.pyplot as plt\n",
        "import numpy as np\n",
        "\n",
        "x = np.arange(-15,15,0.1)\n",
        "\n",
        "\n",
        "def func(x):\n",
        "    return (1/(1+exp(-x))) * (1 - (1/(1+exp(-x))))\n",
        "\n",
        "\n",
        "y = [func(i) for i in x]\n",
        "plt.plot(x, y)\n",
        "plt.show()\n",
        "print(max(y))"
      ],
      "execution_count": null,
      "outputs": [
        {
          "output_type": "display_data",
          "data": {
            "image/png": "[encoded data removed]",
            "text/plain": [
              "<Figure size 432x288 with 1 Axes>"
            ]
          },
          "metadata": {
            "tags": [],
            "needs_background": "light"
          }
        },
        {
          "output_type": "stream",
          "text": [
            "0.25\n"
          ],
          "name": "stdout"
        }
      ]
    },
    {
      "cell_type": "code",
      "metadata": {
        "id": "L_YllbS9OhIL",
        "colab_type": "code",
        "colab": {}
      },
      "source": [
        "from math import exp\n",
        "def sigma(x):\n",
        "  return(1 / (1 + exp(-x)))\n",
        "def func(x):\n",
        "  print(sigma(x) * (1 - sigma(x)))"
      ],
      "execution_count": null,
      "outputs": []
    },
    {
      "cell_type": "code",
      "metadata": {
        "id": "u7Wa4DsxQl_L",
        "colab_type": "code",
        "colab": {
          "base_uri": "https://localhost:8080/",
          "height": 34
        },
        "outputId": "c3a2371f-b716-4f72-db97-24066405a48f"
      },
      "source": [
        "func(0)"
      ],
      "execution_count": null,
      "outputs": [
        {
          "output_type": "stream",
          "text": [
            "0.25\n"
          ],
          "name": "stdout"
        }
      ]
    },
    {
      "cell_type": "code",
      "metadata": {
        "id": "l9_MOqyMRmXe",
        "colab_type": "code",
        "colab": {}
      },
      "source": [
        ""
      ],
      "execution_count": null,
      "outputs": []
    }
  ]
}