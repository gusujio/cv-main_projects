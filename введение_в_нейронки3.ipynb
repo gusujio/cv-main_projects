{
  "nbformat": 4,
  "nbformat_minor": 0,
  "metadata": {
    "colab": {
      "name": "введение в нейронки3.ipynb",
      "provenance": [],
      "authorship_tag": "ABX9TyNUV4DjnUFLSdvGQhHo+4/Y",
      "include_colab_link": true
    },
    "kernelspec": {
      "name": "python3",
      "display_name": "Python 3"
    },
    "accelerator": "GPU"
  },
  "cells": [
    {
      "cell_type": "markdown",
      "metadata": {
        "id": "view-in-github",
        "colab_type": "text"
      },
      "source": [
        "<a href=\"https://colab.research.google.com/github/gusujio/neural_networks_start/blob/master/%D0%B2%D0%B2%D0%B5%D0%B4%D0%B5%D0%BD%D0%B8%D0%B5_%D0%B2_%D0%BD%D0%B5%D0%B9%D1%80%D0%BE%D0%BD%D0%BA%D0%B83.ipynb\" target=\"_parent\"><img src=\"https://colab.research.google.com/assets/colab-badge.svg\" alt=\"Open In Colab\"/></a>"
      ]
    },
    {
      "cell_type": "markdown",
      "metadata": {
        "id": "XNSrF4tIjjKH",
        "colab_type": "text"
      },
      "source": [
        "# Распознавание цифр"
      ]
    },
    {
      "cell_type": "code",
      "metadata": {
        "id": "HjbKc37BhsDW",
        "colab_type": "code",
        "colab": {}
      },
      "source": [
        "import torch\n",
        "import random\n",
        "import numpy as np\n",
        "\n",
        "random.seed(0)\n",
        "np.random.seed(0)\n",
        "torch.manual_seed(0)\n",
        "torch.cuda.manual_seed(0)\n",
        "torch.backends.cudnn.deterministic = True"
      ],
      "execution_count": null,
      "outputs": []
    },
    {
      "cell_type": "markdown",
      "metadata": {
        "id": "w0azRt63jvx6",
        "colab_type": "text"
      },
      "source": [
        "## Скачаем dataset"
      ]
    },
    {
      "cell_type": "code",
      "metadata": {
        "id": "ZwouXIj0hz8u",
        "colab_type": "code",
        "colab": {}
      },
      "source": [
        "import torchvision.datasets\n",
        "MNIST_train = torchvision.datasets.MNIST('./', download=True, train=True)\n",
        "MNIST_test = torchvision.datasets.MNIST('./', download=True, train=False)"
      ],
      "execution_count": null,
      "outputs": []
    },
    {
      "cell_type": "code",
      "metadata": {
        "id": "YwCelUoyjfGh",
        "colab_type": "code",
        "colab": {
          "base_uri": "https://localhost:8080/",
          "height": 153
        },
        "outputId": "654bc305-9d85-436d-c5f8-c6b80250c51c"
      },
      "source": [
        "X_train = MNIST_train.train_data\n",
        "y_train = MNIST_train.train_labels\n",
        "X_test = MNIST_test.test_data\n",
        "y_test = MNIST_test.test_labels\n",
        "X_train = X_train.float()\n",
        "X_test = X_test.float();"
      ],
      "execution_count": null,
      "outputs": [
        {
          "output_type": "stream",
          "text": [
            "/usr/local/lib/python3.6/dist-packages/torchvision/datasets/mnist.py:55: UserWarning: train_data has been renamed data\n",
            "  warnings.warn(\"train_data has been renamed data\")\n",
            "/usr/local/lib/python3.6/dist-packages/torchvision/datasets/mnist.py:45: UserWarning: train_labels has been renamed targets\n",
            "  warnings.warn(\"train_labels has been renamed targets\")\n",
            "/usr/local/lib/python3.6/dist-packages/torchvision/datasets/mnist.py:60: UserWarning: test_data has been renamed data\n",
            "  warnings.warn(\"test_data has been renamed data\")\n",
            "/usr/local/lib/python3.6/dist-packages/torchvision/datasets/mnist.py:50: UserWarning: test_labels has been renamed targets\n",
            "  warnings.warn(\"test_labels has been renamed targets\")\n"
          ],
          "name": "stderr"
        }
      ]
    },
    {
      "cell_type": "markdown",
      "metadata": {
        "id": "CbU5TXpNkYZv",
        "colab_type": "text"
      },
      "source": [
        "Немного посмотрим на данные "
      ]
    },
    {
      "cell_type": "code",
      "metadata": {
        "id": "V2H098V9kFTU",
        "colab_type": "code",
        "colab": {
          "base_uri": "https://localhost:8080/",
          "height": 34
        },
        "outputId": "5a4b58a3-a004-4f76-8c8a-caedbb8a8e69"
      },
      "source": [
        "X_train.shape, X_test.shape"
      ],
      "execution_count": null,
      "outputs": [
        {
          "output_type": "execute_result",
          "data": {
            "text/plain": [
              "(torch.Size([60000, 28, 28]), torch.Size([10000, 28, 28]))"
            ]
          },
          "metadata": {
            "tags": []
          },
          "execution_count": 88
        }
      ]
    },
    {
      "cell_type": "code",
      "metadata": {
        "id": "qz3-z_K8kQPI",
        "colab_type": "code",
        "colab": {
          "base_uri": "https://localhost:8080/",
          "height": 34
        },
        "outputId": "50db0408-d584-4870-b1dc-824f9c4a41b0"
      },
      "source": [
        "y_train.shape, y_test.shape"
      ],
      "execution_count": null,
      "outputs": [
        {
          "output_type": "execute_result",
          "data": {
            "text/plain": [
              "(torch.Size([60000]), torch.Size([10000]))"
            ]
          },
          "metadata": {
            "tags": []
          },
          "execution_count": 89
        }
      ]
    },
    {
      "cell_type": "code",
      "metadata": {
        "id": "aoYHe5fhkRnH",
        "colab_type": "code",
        "colab": {
          "base_uri": "https://localhost:8080/",
          "height": 282
        },
        "outputId": "dfc3e6a8-3f0e-49d3-ce3a-3b63eb825394"
      },
      "source": [
        "import matplotlib.pyplot as plt\n",
        "plt.imshow(X_train[0, :, :])\n",
        "plt.show()\n",
        "print(y_train[0])"
      ],
      "execution_count": null,
      "outputs": [
        {
          "output_type": "display_data",
          "data": {
            "image/png": "[encoded data removed]",
            "text/plain": [
              "<Figure size 432x288 with 1 Axes>"
            ]
          },
          "metadata": {
            "tags": [],
            "needs_background": "light"
          }
        },
        {
          "output_type": "stream",
          "text": [
            "tensor(5)\n"
          ],
          "name": "stdout"
        }
      ]
    },
    {
      "cell_type": "code",
      "metadata": {
        "id": "s0OAtjp3kUce",
        "colab_type": "code",
        "colab": {}
      },
      "source": [
        "X_train = X_train.reshape([-1, 28 * 28]) #превратим в одномерные массив\n",
        "X_test = X_test.reshape([-1, 28 * 28])"
      ],
      "execution_count": null,
      "outputs": []
    },
    {
      "cell_type": "code",
      "metadata": {
        "id": "jyAGF0uQkhim",
        "colab_type": "code",
        "colab": {}
      },
      "source": [
        "class MNISTNet(torch.nn.Module):#Наша нейронка\n",
        "    def __init__(self, n_hidden_neurons):\n",
        "        super(MNISTNet, self).__init__()\n",
        "        self.fc1 = torch.nn.Linear(28 * 28, n_hidden_neurons)\n",
        "        self.ac1 = torch.nn.Sigmoid() # что бы добавить не линейность \n",
        "        self.fc2 = torch.nn.Linear(n_hidden_neurons, 10) \n",
        "    \n",
        "    def forward(self, x):\n",
        "        x = self.fc1(x)\n",
        "        x = self.ac1(x)\n",
        "        x = self.fc2(x)\n",
        "        return x\n",
        "    \n",
        "mnist_net = MNISTNet(100)"
      ],
      "execution_count": null,
      "outputs": []
    },
    {
      "cell_type": "code",
      "metadata": {
        "id": "Z21SlC-hvJZL",
        "colab_type": "code",
        "colab": {
          "base_uri": "https://localhost:8080/",
          "height": 34
        },
        "outputId": "27d4c553-c946-47e2-8c47-fc7dd453fb72"
      },
      "source": [
        "torch.cuda.is_available() # torch видет gpu?"
      ],
      "execution_count": null,
      "outputs": [
        {
          "output_type": "execute_result",
          "data": {
            "text/plain": [
              "True"
            ]
          },
          "metadata": {
            "tags": []
          },
          "execution_count": 93
        }
      ]
    },
    {
      "cell_type": "code",
      "metadata": {
        "id": "8vp3BzXrvcqR",
        "colab_type": "code",
        "colab": {
          "base_uri": "https://localhost:8080/",
          "height": 357
        },
        "outputId": "3b393d98-f101-4416-917d-b607cb719311"
      },
      "source": [
        "!nvidia-smi\n",
        "# мы можем посмотреть -- а занята ли наша видео-карточка какими-то вычислениями. Это делается с помощью консольной команды"
      ],
      "execution_count": null,
      "outputs": [
        {
          "output_type": "stream",
          "text": [
            "Sun Jul 12 11:38:39 2020       \n",
            "+-----------------------------------------------------------------------------+\n",
            "| NVIDIA-SMI 450.36.06    Driver Version: 418.67       CUDA Version: 10.1     |\n",
            "|-------------------------------+----------------------+----------------------+\n",
            "| GPU  Name        Persistence-M| Bus-Id        Disp.A | Volatile Uncorr. ECC |\n",
            "| Fan  Temp  Perf  Pwr:Usage/Cap|         Memory-Usage | GPU-Util  Compute M. |\n",
            "|                               |                      |               MIG M. |\n",
            "|===============================+======================+======================|\n",
            "|   0  Tesla K80           Off  | 00000000:00:04.0 Off |                    0 |\n",
            "| N/A   51C    P0    62W / 149W |   1947MiB / 11441MiB |      0%      Default |\n",
            "|                               |                      |                 ERR! |\n",
            "+-------------------------------+----------------------+----------------------+\n",
            "                                                                               \n",
            "+-----------------------------------------------------------------------------+\n",
            "| Processes:                                                                  |\n",
            "|  GPU   GI   CI        PID   Type   Process name                  GPU Memory |\n",
            "|        ID   ID                                                   Usage      |\n",
            "|=============================================================================|\n",
            "|  No running processes found                                                 |\n",
            "+-----------------------------------------------------------------------------+\n"
          ],
          "name": "stdout"
        }
      ]
    },
    {
      "cell_type": "markdown",
      "metadata": {
        "id": "ul1-RfUp601D",
        "colab_type": "text"
      },
      "source": [
        "## Работа с видеокартой\n",
        "Какие же тензоры нам нужно переложить на видео карточку? Во-первых это веса нейронной сети -- это то, что будет оптимизироваться, это то, что участвует в вычислениях, это обязательно должно быть на видео карте. А кроме того нам нужно переложить на видео карту ещё и входы -- те картинки, которые мы передаём в нейросеть.\n",
        "\n",
        "Во-первых нам нужно создать такую переменную \"device\", которая будет либо строчкой \"cuda:0\", что соответствует нулевой видео-карточке (если у вас их вдруг много), либо \"cpu\", если видео-карты нету. То есть сейчас мы создаем кросс-платформенный код, который будет работать и на CPU, и на GPU, в зависимости от того, что выдаст эта строчка. torch.cuda_is_available. Если будет True, то, соответственно, device превратится в \"cuda:0\", а если у вас \"cuda_is_available\" -- это False, значит будет CPU, как обычно."
      ]
    },
    {
      "cell_type": "code",
      "metadata": {
        "id": "VJKF92xJ60KQ",
        "colab_type": "code",
        "colab": {}
      },
      "source": [
        "device = torch.device('cuda:0' if torch.cuda.is_available() else 'cpu')\n",
        "# Теперь нам нужно на этот device переложить нейронную сеть. (то есть как с обычным тензором)\n",
        "mnist_net = mnist_net.to(device)\n",
        "# Давайте убедимся, а переложилась ли наша нейронная сеть на GPU?\n",
        "#  Это можно сделать, если мы возьмём её параметры, которые мы обычно передаём в оптимизатор, и просто выведем их на экран.\n",
        "# И мы видим, что везде прописан device cuda:0, то есть это значит, что все эти параметры теперь лежат на видео-карте\n",
        "# list(mnist_net.parameters())"
      ],
      "execution_count": null,
      "outputs": []
    },
    {
      "cell_type": "markdown",
      "metadata": {
        "id": "6IMlFPEllvxx",
        "colab_type": "text"
      },
      "source": [
        "loss - это будет кросс-энтропия, потому что это loss, который используется в классификации. Нужно подчеркнуть, что функция CrossEntropyLoss на вход принимает не вероятности, а те выходы, которые до софтмакса, то есть функция forward, которую мы написали, не содержала софтмакс, потому что мы хотим немножко ускорить наши вычисления, избежав софтмакса."
      ]
    },
    {
      "cell_type": "code",
      "metadata": {
        "id": "6Eckumn3k-ZY",
        "colab_type": "code",
        "colab": {}
      },
      "source": [
        "loss = torch.nn.CrossEntropyLoss()\n",
        "optimizer = torch.optim.Adam(mnist_net.parameters(), lr=1.0e-3)"
      ],
      "execution_count": null,
      "outputs": []
    },
    {
      "cell_type": "code",
      "metadata": {
        "id": "UxbqZrdAlt9k",
        "colab_type": "code",
        "colab": {}
      },
      "source": [
        "x=torch.zeros([6000, 28, 28], dtype=torch.int32)"
      ],
      "execution_count": null,
      "outputs": []
    },
    {
      "cell_type": "markdown",
      "metadata": {
        "id": "6LBKB2lSncKo",
        "colab_type": "text"
      },
      "source": [
        "Мы будем обучаться батчевым или стохастическим градиентным спуском. То есть мы будем делить наш датасет на маленькие части (так называемые батчи), передавать эти батчи в нейронную сеть с помощью функции forward. После этого мы будем вызывать loss-функцию, которая скажет нам размер ошибки. После этого мы сможем посчитать градиент с помощью функции backward, и дальше мы сможем сделать градиентный шаг, вызвав optimizer.step"
      ]
    },
    {
      "cell_type": "code",
      "metadata": {
        "id": "M5aaS0ISne-H",
        "colab_type": "code",
        "colab": {
          "base_uri": "https://localhost:8080/",
          "height": 1000
        },
        "outputId": "da4704ce-d4f8-4da6-fa15-166efd0031ac"
      },
      "source": [
        "%%time\n",
        "batch_size = 100\n",
        "\n",
        "test_accuracy_history = [] # cохраняют значение на каждой эпохе\n",
        "test_loss_history = []\n",
        "\n",
        "loss_train_batch = []\n",
        "\n",
        "# А кроме того нам нужно переложить на видео карту входные данные, \n",
        "# то есть мы можем взять, и весь наш тестовый датасет X_test сразу переложить на device,\n",
        "#  потому что мы тестируемся по всему датасету сразу и считаем, \n",
        "#  что он помещается в видео-памяти. \n",
        "\n",
        "X_test = X_test.to(device) \n",
        "y_test = y_test.to(device)\n",
        "\n",
        "for epoch in range(100):\n",
        "    order = np.random.permutation(len(X_train))\n",
        "    \n",
        "    for start_index in range(0, len(X_train), batch_size):\n",
        "        optimizer.zero_grad()\n",
        "        \n",
        "        batch_indexes = order[start_index:start_index+batch_size]\n",
        "        # А вот Y_train и X_train мы не будем сразу класть на видео-карту, \n",
        "        # мы будем это делать по батчам, то есть мы возьмём из датасета некоторый батч, и его будем перекладывать на видео карту.\n",
        "        X_batch = X_train[batch_indexes].to(device)\n",
        "        y_batch = y_train[batch_indexes].to(device)\n",
        "        \n",
        "        preds = mnist_net.forward(X_batch) \n",
        "        \n",
        "        loss_value = loss(preds, y_batch)\n",
        "\n",
        "        loss_train_batch.append(loss_value)\n",
        "\n",
        "        loss_value.backward()\n",
        "        \n",
        "        optimizer.step()\n",
        "\n",
        "    test_preds = mnist_net.forward(X_test)\n",
        "    test_loss_history.append(loss(test_preds, y_test)) #будем сохранять наши лоссы на тесте\n",
        "    \n",
        "    accuracy = (test_preds.argmax(dim=1) == y_test).float().mean()\n",
        "    test_accuracy_history.append(accuracy)#будем сохранять наши accuracy\n",
        "    print(accuracy)"
      ],
      "execution_count": null,
      "outputs": [
        {
          "output_type": "stream",
          "text": [
            "tensor(0.9069, device='cuda:0')\n",
            "tensor(0.9180, device='cuda:0')\n",
            "tensor(0.9186, device='cuda:0')\n",
            "tensor(0.9291, device='cuda:0')\n",
            "tensor(0.9250, device='cuda:0')\n",
            "tensor(0.9229, device='cuda:0')\n",
            "tensor(0.9302, device='cuda:0')\n",
            "tensor(0.9253, device='cuda:0')\n",
            "tensor(0.9263, device='cuda:0')\n",
            "tensor(0.9337, device='cuda:0')\n",
            "tensor(0.9296, device='cuda:0')\n",
            "tensor(0.9386, device='cuda:0')\n",
            "tensor(0.9378, device='cuda:0')\n",
            "tensor(0.9275, device='cuda:0')\n",
            "tensor(0.9339, device='cuda:0')\n",
            "tensor(0.9372, device='cuda:0')\n",
            "tensor(0.9386, device='cuda:0')\n",
            "tensor(0.9393, device='cuda:0')\n",
            "tensor(0.9424, device='cuda:0')\n",
            "tensor(0.9414, device='cuda:0')\n",
            "tensor(0.9340, device='cuda:0')\n",
            "tensor(0.9373, device='cuda:0')\n",
            "tensor(0.9343, device='cuda:0')\n",
            "tensor(0.9429, device='cuda:0')\n",
            "tensor(0.9427, device='cuda:0')\n",
            "tensor(0.9434, device='cuda:0')\n",
            "tensor(0.9461, device='cuda:0')\n",
            "tensor(0.9481, device='cuda:0')\n",
            "tensor(0.9454, device='cuda:0')\n",
            "tensor(0.9443, device='cuda:0')\n",
            "tensor(0.9403, device='cuda:0')\n",
            "tensor(0.9431, device='cuda:0')\n",
            "tensor(0.9422, device='cuda:0')\n",
            "tensor(0.9421, device='cuda:0')\n",
            "tensor(0.9465, device='cuda:0')\n",
            "tensor(0.9413, device='cuda:0')\n",
            "tensor(0.9472, device='cuda:0')\n",
            "tensor(0.9444, device='cuda:0')\n",
            "tensor(0.9444, device='cuda:0')\n",
            "tensor(0.9481, device='cuda:0')\n",
            "tensor(0.9440, device='cuda:0')\n",
            "tensor(0.9484, device='cuda:0')\n",
            "tensor(0.9475, device='cuda:0')\n",
            "tensor(0.9461, device='cuda:0')\n",
            "tensor(0.9450, device='cuda:0')\n",
            "tensor(0.9486, device='cuda:0')\n",
            "tensor(0.9458, device='cuda:0')\n",
            "tensor(0.9473, device='cuda:0')\n",
            "tensor(0.9482, device='cuda:0')\n",
            "tensor(0.9508, device='cuda:0')\n",
            "tensor(0.9492, device='cuda:0')\n",
            "tensor(0.9493, device='cuda:0')\n",
            "tensor(0.9469, device='cuda:0')\n",
            "tensor(0.9512, device='cuda:0')\n",
            "tensor(0.9529, device='cuda:0')\n",
            "tensor(0.9530, device='cuda:0')\n",
            "tensor(0.9506, device='cuda:0')\n",
            "tensor(0.9523, device='cuda:0')\n",
            "tensor(0.9523, device='cuda:0')\n",
            "tensor(0.9530, device='cuda:0')\n",
            "tensor(0.9488, device='cuda:0')\n",
            "tensor(0.9493, device='cuda:0')\n",
            "tensor(0.9492, device='cuda:0')\n",
            "tensor(0.9500, device='cuda:0')\n",
            "tensor(0.9530, device='cuda:0')\n",
            "tensor(0.9513, device='cuda:0')\n",
            "tensor(0.9519, device='cuda:0')\n",
            "tensor(0.9508, device='cuda:0')\n",
            "tensor(0.9551, device='cuda:0')\n",
            "tensor(0.9560, device='cuda:0')\n",
            "tensor(0.9531, device='cuda:0')\n",
            "tensor(0.9540, device='cuda:0')\n",
            "tensor(0.9509, device='cuda:0')\n",
            "tensor(0.9570, device='cuda:0')\n",
            "tensor(0.9578, device='cuda:0')\n",
            "tensor(0.9537, device='cuda:0')\n",
            "tensor(0.9526, device='cuda:0')\n",
            "tensor(0.9550, device='cuda:0')\n",
            "tensor(0.9531, device='cuda:0')\n",
            "tensor(0.9556, device='cuda:0')\n",
            "tensor(0.9529, device='cuda:0')\n",
            "tensor(0.9568, device='cuda:0')\n",
            "tensor(0.9566, device='cuda:0')\n",
            "tensor(0.9543, device='cuda:0')\n",
            "tensor(0.9548, device='cuda:0')\n",
            "tensor(0.9534, device='cuda:0')\n",
            "tensor(0.9552, device='cuda:0')\n",
            "tensor(0.9579, device='cuda:0')\n",
            "tensor(0.9563, device='cuda:0')\n",
            "tensor(0.9597, device='cuda:0')\n",
            "tensor(0.9587, device='cuda:0')\n",
            "tensor(0.9550, device='cuda:0')\n",
            "tensor(0.9563, device='cuda:0')\n",
            "tensor(0.9565, device='cuda:0')\n",
            "tensor(0.9572, device='cuda:0')\n",
            "tensor(0.9607, device='cuda:0')\n",
            "tensor(0.9607, device='cuda:0')\n",
            "tensor(0.9587, device='cuda:0')\n",
            "tensor(0.9615, device='cuda:0')\n",
            "tensor(0.9587, device='cuda:0')\n",
            "CPU times: user 2min 10s, sys: 5.89 s, total: 2min 15s\n",
            "Wall time: 2min 17s\n"
          ],
          "name": "stdout"
        }
      ]
    },
    {
      "cell_type": "markdown",
      "metadata": {
        "id": "pgGWRI-H9LMY",
        "colab_type": "text"
      },
      "source": [
        "мы видим, что обучение пошло гораздо быстрее (в несколько десятков раз). То есть обучение, которое происходит на видеокарточке, оно, как правило, в 10, 30, может быть даже в 50 раз будет быстрее, чем обучение, которое происходит на CPU."
      ]
    },
    {
      "cell_type": "markdown",
      "metadata": {
        "id": "UvqIm7aPyYzk",
        "colab_type": "text"
      },
      "source": [
        "2min 16s - 100 эпох на gpu\n",
        "\n",
        "3min 34s - 100 эпох на cpu\n",
        "\n",
        "2min 19s - 100 эпох на gpu c  torch.backends.cudnn.deterministic = False\n",
        "\n",
        "Accuracy после 200 эпох (средняя по 5 экспериментам):\n",
        "\n",
        "1. SGD - 0.9193\n",
        "2. Rprop - 0.9271\n",
        "3. RMSprop - 0.9616\n",
        "4. Adam - 0.9596"
      ]
    },
    {
      "cell_type": "code",
      "metadata": {
        "id": "jAZbY5tznrDr",
        "colab_type": "code",
        "colab": {
          "base_uri": "https://localhost:8080/",
          "height": 609
        },
        "outputId": "ab602f24-1004-423c-f57a-362dc8aeac4d"
      },
      "source": [
        "plt.figure(figsize=(20,10))\n",
        "plt.plot(loss_train_batch[:len(test_loss_history)], color = 'r')\n",
        "plt.plot(test_loss_history)"
      ],
      "execution_count": null,
      "outputs": [
        {
          "output_type": "execute_result",
          "data": {
            "text/plain": [
              "[<matplotlib.lines.Line2D at 0x7ff3b717a4e0>]"
            ]
          },
          "metadata": {
            "tags": []
          },
          "execution_count": 68
        },
        {
          "output_type": "display_data",
          "data": {
            "image/png": "[encoded data removed]",
            "text/plain": [
              "<Figure size 1440x720 with 1 Axes>"
            ]
          },
          "metadata": {
            "tags": [],
            "needs_background": "light"
          }
        }
      ]
    },
    {
      "cell_type": "code",
      "metadata": {
        "id": "I8ehg5rhsbYm",
        "colab_type": "code",
        "colab": {
          "base_uri": "https://localhost:8080/",
          "height": 34
        },
        "outputId": "a3fb7aa8-7890-4ce8-dbab-10066d80a1d2"
      },
      "source": [
        "test_preds.argmax(dim=1)"
      ],
      "execution_count": null,
      "outputs": [
        {
          "output_type": "execute_result",
          "data": {
            "text/plain": [
              "tensor([7, 2, 1,  ..., 4, 5, 6])"
            ]
          },
          "metadata": {
            "tags": []
          },
          "execution_count": 56
        }
      ]
    },
    {
      "cell_type": "code",
      "metadata": {
        "id": "Wtx2a48bt0tA",
        "colab_type": "code",
        "colab": {}
      },
      "source": [
        ""
      ],
      "execution_count": null,
      "outputs": []
    }
  ]
}