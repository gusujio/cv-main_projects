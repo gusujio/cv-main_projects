{
  "nbformat": 4,
  "nbformat_minor": 0,
  "metadata": {
    "colab": {
      "name": "первая_сверточная_сеть2.ipynb",
      "provenance": [],
      "authorship_tag": "ABX9TyMutqfpX8uIN5Y9JEhGv+jP",
      "include_colab_link": true
    },
    "kernelspec": {
      "name": "python3",
      "display_name": "Python 3"
    },
    "widgets": {
      "application/vnd.jupyter.widget-state+json": {
        "9f6cc557f84b4c3199b395f4678dc226": {
          "model_module": "@jupyter-widgets/controls",
          "model_name": "HBoxModel",
          "state": {
            "_view_name": "HBoxView",
            "_dom_classes": [],
            "_model_name": "HBoxModel",
            "_view_module": "@jupyter-widgets/controls",
            "_model_module_version": "1.5.0",
            "_view_count": null,
            "_view_module_version": "1.5.0",
            "box_style": "",
            "layout": "IPY_MODEL_9bb9643e2e344ed2846ac51f5c088f8f",
            "_model_module": "@jupyter-widgets/controls",
            "children": [
              "IPY_MODEL_b0e363458f7d480ea51ef4d7b1f7301f",
              "IPY_MODEL_feaa4245d6c7419186d3456f2f220217"
            ]
          }
        },
        "9bb9643e2e344ed2846ac51f5c088f8f": {
          "model_module": "@jupyter-widgets/base",
          "model_name": "LayoutModel",
          "state": {
            "_view_name": "LayoutView",
            "grid_template_rows": null,
            "right": null,
            "justify_content": null,
            "_view_module": "@jupyter-widgets/base",
            "overflow": null,
            "_model_module_version": "1.2.0",
            "_view_count": null,
            "flex_flow": null,
            "width": null,
            "min_width": null,
            "border": null,
            "align_items": null,
            "bottom": null,
            "_model_module": "@jupyter-widgets/base",
            "top": null,
            "grid_column": null,
            "overflow_y": null,
            "overflow_x": null,
            "grid_auto_flow": null,
            "grid_area": null,
            "grid_template_columns": null,
            "flex": null,
            "_model_name": "LayoutModel",
            "justify_items": null,
            "grid_row": null,
            "max_height": null,
            "align_content": null,
            "visibility": null,
            "align_self": null,
            "height": null,
            "min_height": null,
            "padding": null,
            "grid_auto_rows": null,
            "grid_gap": null,
            "max_width": null,
            "order": null,
            "_view_module_version": "1.2.0",
            "grid_template_areas": null,
            "object_position": null,
            "object_fit": null,
            "grid_auto_columns": null,
            "margin": null,
            "display": null,
            "left": null
          }
        },
        "b0e363458f7d480ea51ef4d7b1f7301f": {
          "model_module": "@jupyter-widgets/controls",
          "model_name": "FloatProgressModel",
          "state": {
            "_view_name": "ProgressView",
            "style": "IPY_MODEL_3293e33881ac45d98bf06307ac2998ab",
            "_dom_classes": [],
            "description": "",
            "_model_name": "FloatProgressModel",
            "bar_style": "info",
            "max": 1,
            "_view_module": "@jupyter-widgets/controls",
            "_model_module_version": "1.5.0",
            "value": 1,
            "_view_count": null,
            "_view_module_version": "1.5.0",
            "orientation": "horizontal",
            "min": 0,
            "description_tooltip": null,
            "_model_module": "@jupyter-widgets/controls",
            "layout": "IPY_MODEL_a80431e2ac85453c9daf1bac88977863"
          }
        },
        "feaa4245d6c7419186d3456f2f220217": {
          "model_module": "@jupyter-widgets/controls",
          "model_name": "HTMLModel",
          "state": {
            "_view_name": "HTMLView",
            "style": "IPY_MODEL_6c802e50134e4c36b0f9836830c08ac5",
            "_dom_classes": [],
            "description": "",
            "_model_name": "HTMLModel",
            "placeholder": "​",
            "_view_module": "@jupyter-widgets/controls",
            "_model_module_version": "1.5.0",
            "value": " 9920512/? [00:20&lt;00:00, 1052948.05it/s]",
            "_view_count": null,
            "_view_module_version": "1.5.0",
            "description_tooltip": null,
            "_model_module": "@jupyter-widgets/controls",
            "layout": "IPY_MODEL_f67daf7b815244d3bd7b6f7d49b6492c"
          }
        },
        "3293e33881ac45d98bf06307ac2998ab": {
          "model_module": "@jupyter-widgets/controls",
          "model_name": "ProgressStyleModel",
          "state": {
            "_view_name": "StyleView",
            "_model_name": "ProgressStyleModel",
            "description_width": "initial",
            "_view_module": "@jupyter-widgets/base",
            "_model_module_version": "1.5.0",
            "_view_count": null,
            "_view_module_version": "1.2.0",
            "bar_color": null,
            "_model_module": "@jupyter-widgets/controls"
          }
        },
        "a80431e2ac85453c9daf1bac88977863": {
          "model_module": "@jupyter-widgets/base",
          "model_name": "LayoutModel",
          "state": {
            "_view_name": "LayoutView",
            "grid_template_rows": null,
            "right": null,
            "justify_content": null,
            "_view_module": "@jupyter-widgets/base",
            "overflow": null,
            "_model_module_version": "1.2.0",
            "_view_count": null,
            "flex_flow": null,
            "width": null,
            "min_width": null,
            "border": null,
            "align_items": null,
            "bottom": null,
            "_model_module": "@jupyter-widgets/base",
            "top": null,
            "grid_column": null,
            "overflow_y": null,
            "overflow_x": null,
            "grid_auto_flow": null,
            "grid_area": null,
            "grid_template_columns": null,
            "flex": null,
            "_model_name": "LayoutModel",
            "justify_items": null,
            "grid_row": null,
            "max_height": null,
            "align_content": null,
            "visibility": null,
            "align_self": null,
            "height": null,
            "min_height": null,
            "padding": null,
            "grid_auto_rows": null,
            "grid_gap": null,
            "max_width": null,
            "order": null,
            "_view_module_version": "1.2.0",
            "grid_template_areas": null,
            "object_position": null,
            "object_fit": null,
            "grid_auto_columns": null,
            "margin": null,
            "display": null,
            "left": null
          }
        },
        "6c802e50134e4c36b0f9836830c08ac5": {
          "model_module": "@jupyter-widgets/controls",
          "model_name": "DescriptionStyleModel",
          "state": {
            "_view_name": "StyleView",
            "_model_name": "DescriptionStyleModel",
            "description_width": "",
            "_view_module": "@jupyter-widgets/base",
            "_model_module_version": "1.5.0",
            "_view_count": null,
            "_view_module_version": "1.2.0",
            "_model_module": "@jupyter-widgets/controls"
          }
        },
        "f67daf7b815244d3bd7b6f7d49b6492c": {
          "model_module": "@jupyter-widgets/base",
          "model_name": "LayoutModel",
          "state": {
            "_view_name": "LayoutView",
            "grid_template_rows": null,
            "right": null,
            "justify_content": null,
            "_view_module": "@jupyter-widgets/base",
            "overflow": null,
            "_model_module_version": "1.2.0",
            "_view_count": null,
            "flex_flow": null,
            "width": null,
            "min_width": null,
            "border": null,
            "align_items": null,
            "bottom": null,
            "_model_module": "@jupyter-widgets/base",
            "top": null,
            "grid_column": null,
            "overflow_y": null,
            "overflow_x": null,
            "grid_auto_flow": null,
            "grid_area": null,
            "grid_template_columns": null,
            "flex": null,
            "_model_name": "LayoutModel",
            "justify_items": null,
            "grid_row": null,
            "max_height": null,
            "align_content": null,
            "visibility": null,
            "align_self": null,
            "height": null,
            "min_height": null,
            "padding": null,
            "grid_auto_rows": null,
            "grid_gap": null,
            "max_width": null,
            "order": null,
            "_view_module_version": "1.2.0",
            "grid_template_areas": null,
            "object_position": null,
            "object_fit": null,
            "grid_auto_columns": null,
            "margin": null,
            "display": null,
            "left": null
          }
        },
        "ede0001d01544a58ab8dbda03684c80d": {
          "model_module": "@jupyter-widgets/controls",
          "model_name": "HBoxModel",
          "state": {
            "_view_name": "HBoxView",
            "_dom_classes": [],
            "_model_name": "HBoxModel",
            "_view_module": "@jupyter-widgets/controls",
            "_model_module_version": "1.5.0",
            "_view_count": null,
            "_view_module_version": "1.5.0",
            "box_style": "",
            "layout": "IPY_MODEL_7ab651cdbc54461f91d5cc1a00844111",
            "_model_module": "@jupyter-widgets/controls",
            "children": [
              "IPY_MODEL_270507086f9e4067a6db876a4ca76d62",
              "IPY_MODEL_032df6154889496eafd2cf7d1e5285e2"
            ]
          }
        },
        "7ab651cdbc54461f91d5cc1a00844111": {
          "model_module": "@jupyter-widgets/base",
          "model_name": "LayoutModel",
          "state": {
            "_view_name": "LayoutView",
            "grid_template_rows": null,
            "right": null,
            "justify_content": null,
            "_view_module": "@jupyter-widgets/base",
            "overflow": null,
            "_model_module_version": "1.2.0",
            "_view_count": null,
            "flex_flow": null,
            "width": null,
            "min_width": null,
            "border": null,
            "align_items": null,
            "bottom": null,
            "_model_module": "@jupyter-widgets/base",
            "top": null,
            "grid_column": null,
            "overflow_y": null,
            "overflow_x": null,
            "grid_auto_flow": null,
            "grid_area": null,
            "grid_template_columns": null,
            "flex": null,
            "_model_name": "LayoutModel",
            "justify_items": null,
            "grid_row": null,
            "max_height": null,
            "align_content": null,
            "visibility": null,
            "align_self": null,
            "height": null,
            "min_height": null,
            "padding": null,
            "grid_auto_rows": null,
            "grid_gap": null,
            "max_width": null,
            "order": null,
            "_view_module_version": "1.2.0",
            "grid_template_areas": null,
            "object_position": null,
            "object_fit": null,
            "grid_auto_columns": null,
            "margin": null,
            "display": null,
            "left": null
          }
        },
        "270507086f9e4067a6db876a4ca76d62": {
          "model_module": "@jupyter-widgets/controls",
          "model_name": "FloatProgressModel",
          "state": {
            "_view_name": "ProgressView",
            "style": "IPY_MODEL_660c0a905a6944ef94a5d9e2060dde7f",
            "_dom_classes": [],
            "description": "",
            "_model_name": "FloatProgressModel",
            "bar_style": "success",
            "max": 1,
            "_view_module": "@jupyter-widgets/controls",
            "_model_module_version": "1.5.0",
            "value": 1,
            "_view_count": null,
            "_view_module_version": "1.5.0",
            "orientation": "horizontal",
            "min": 0,
            "description_tooltip": null,
            "_model_module": "@jupyter-widgets/controls",
            "layout": "IPY_MODEL_50a887021f0c427a88274590b3fa59a9"
          }
        },
        "032df6154889496eafd2cf7d1e5285e2": {
          "model_module": "@jupyter-widgets/controls",
          "model_name": "HTMLModel",
          "state": {
            "_view_name": "HTMLView",
            "style": "IPY_MODEL_222caaa89ad646aeadf636ed7a023db0",
            "_dom_classes": [],
            "description": "",
            "_model_name": "HTMLModel",
            "placeholder": "​",
            "_view_module": "@jupyter-widgets/controls",
            "_model_module_version": "1.5.0",
            "value": " 32768/? [00:01&lt;00:00, 23769.76it/s]",
            "_view_count": null,
            "_view_module_version": "1.5.0",
            "description_tooltip": null,
            "_model_module": "@jupyter-widgets/controls",
            "layout": "IPY_MODEL_e41c6e956ad14fffacaabc6b5b9349fc"
          }
        },
        "660c0a905a6944ef94a5d9e2060dde7f": {
          "model_module": "@jupyter-widgets/controls",
          "model_name": "ProgressStyleModel",
          "state": {
            "_view_name": "StyleView",
            "_model_name": "ProgressStyleModel",
            "description_width": "initial",
            "_view_module": "@jupyter-widgets/base",
            "_model_module_version": "1.5.0",
            "_view_count": null,
            "_view_module_version": "1.2.0",
            "bar_color": null,
            "_model_module": "@jupyter-widgets/controls"
          }
        },
        "50a887021f0c427a88274590b3fa59a9": {
          "model_module": "@jupyter-widgets/base",
          "model_name": "LayoutModel",
          "state": {
            "_view_name": "LayoutView",
            "grid_template_rows": null,
            "right": null,
            "justify_content": null,
            "_view_module": "@jupyter-widgets/base",
            "overflow": null,
            "_model_module_version": "1.2.0",
            "_view_count": null,
            "flex_flow": null,
            "width": null,
            "min_width": null,
            "border": null,
            "align_items": null,
            "bottom": null,
            "_model_module": "@jupyter-widgets/base",
            "top": null,
            "grid_column": null,
            "overflow_y": null,
            "overflow_x": null,
            "grid_auto_flow": null,
            "grid_area": null,
            "grid_template_columns": null,
            "flex": null,
            "_model_name": "LayoutModel",
            "justify_items": null,
            "grid_row": null,
            "max_height": null,
            "align_content": null,
            "visibility": null,
            "align_self": null,
            "height": null,
            "min_height": null,
            "padding": null,
            "grid_auto_rows": null,
            "grid_gap": null,
            "max_width": null,
            "order": null,
            "_view_module_version": "1.2.0",
            "grid_template_areas": null,
            "object_position": null,
            "object_fit": null,
            "grid_auto_columns": null,
            "margin": null,
            "display": null,
            "left": null
          }
        },
        "222caaa89ad646aeadf636ed7a023db0": {
          "model_module": "@jupyter-widgets/controls",
          "model_name": "DescriptionStyleModel",
          "state": {
            "_view_name": "StyleView",
            "_model_name": "DescriptionStyleModel",
            "description_width": "",
            "_view_module": "@jupyter-widgets/base",
            "_model_module_version": "1.5.0",
            "_view_count": null,
            "_view_module_version": "1.2.0",
            "_model_module": "@jupyter-widgets/controls"
          }
        },
        "e41c6e956ad14fffacaabc6b5b9349fc": {
          "model_module": "@jupyter-widgets/base",
          "model_name": "LayoutModel",
          "state": {
            "_view_name": "LayoutView",
            "grid_template_rows": null,
            "right": null,
            "justify_content": null,
            "_view_module": "@jupyter-widgets/base",
            "overflow": null,
            "_model_module_version": "1.2.0",
            "_view_count": null,
            "flex_flow": null,
            "width": null,
            "min_width": null,
            "border": null,
            "align_items": null,
            "bottom": null,
            "_model_module": "@jupyter-widgets/base",
            "top": null,
            "grid_column": null,
            "overflow_y": null,
            "overflow_x": null,
            "grid_auto_flow": null,
            "grid_area": null,
            "grid_template_columns": null,
            "flex": null,
            "_model_name": "LayoutModel",
            "justify_items": null,
            "grid_row": null,
            "max_height": null,
            "align_content": null,
            "visibility": null,
            "align_self": null,
            "height": null,
            "min_height": null,
            "padding": null,
            "grid_auto_rows": null,
            "grid_gap": null,
            "max_width": null,
            "order": null,
            "_view_module_version": "1.2.0",
            "grid_template_areas": null,
            "object_position": null,
            "object_fit": null,
            "grid_auto_columns": null,
            "margin": null,
            "display": null,
            "left": null
          }
        },
        "f4804e2370db438cb42f5ceee30d2f0b": {
          "model_module": "@jupyter-widgets/controls",
          "model_name": "HBoxModel",
          "state": {
            "_view_name": "HBoxView",
            "_dom_classes": [],
            "_model_name": "HBoxModel",
            "_view_module": "@jupyter-widgets/controls",
            "_model_module_version": "1.5.0",
            "_view_count": null,
            "_view_module_version": "1.5.0",
            "box_style": "",
            "layout": "IPY_MODEL_5bd3f1ab033748b3b66e3e1c4b08f510",
            "_model_module": "@jupyter-widgets/controls",
            "children": [
              "IPY_MODEL_c0a3aa22262e41c09a948822b1d9ecdd",
              "IPY_MODEL_433143f35c3c4013a37ec1e5ee416378"
            ]
          }
        },
        "5bd3f1ab033748b3b66e3e1c4b08f510": {
          "model_module": "@jupyter-widgets/base",
          "model_name": "LayoutModel",
          "state": {
            "_view_name": "LayoutView",
            "grid_template_rows": null,
            "right": null,
            "justify_content": null,
            "_view_module": "@jupyter-widgets/base",
            "overflow": null,
            "_model_module_version": "1.2.0",
            "_view_count": null,
            "flex_flow": null,
            "width": null,
            "min_width": null,
            "border": null,
            "align_items": null,
            "bottom": null,
            "_model_module": "@jupyter-widgets/base",
            "top": null,
            "grid_column": null,
            "overflow_y": null,
            "overflow_x": null,
            "grid_auto_flow": null,
            "grid_area": null,
            "grid_template_columns": null,
            "flex": null,
            "_model_name": "LayoutModel",
            "justify_items": null,
            "grid_row": null,
            "max_height": null,
            "align_content": null,
            "visibility": null,
            "align_self": null,
            "height": null,
            "min_height": null,
            "padding": null,
            "grid_auto_rows": null,
            "grid_gap": null,
            "max_width": null,
            "order": null,
            "_view_module_version": "1.2.0",
            "grid_template_areas": null,
            "object_position": null,
            "object_fit": null,
            "grid_auto_columns": null,
            "margin": null,
            "display": null,
            "left": null
          }
        },
        "c0a3aa22262e41c09a948822b1d9ecdd": {
          "model_module": "@jupyter-widgets/controls",
          "model_name": "FloatProgressModel",
          "state": {
            "_view_name": "ProgressView",
            "style": "IPY_MODEL_f7d35780ebe145c0aa37056c4f31c810",
            "_dom_classes": [],
            "description": "",
            "_model_name": "FloatProgressModel",
            "bar_style": "success",
            "max": 1,
            "_view_module": "@jupyter-widgets/controls",
            "_model_module_version": "1.5.0",
            "value": 1,
            "_view_count": null,
            "_view_module_version": "1.5.0",
            "orientation": "horizontal",
            "min": 0,
            "description_tooltip": null,
            "_model_module": "@jupyter-widgets/controls",
            "layout": "IPY_MODEL_05fe6e7a10944f949dbf3a51bfba56e2"
          }
        },
        "433143f35c3c4013a37ec1e5ee416378": {
          "model_module": "@jupyter-widgets/controls",
          "model_name": "HTMLModel",
          "state": {
            "_view_name": "HTMLView",
            "style": "IPY_MODEL_5459442621e6429fb479e80c8098c6e6",
            "_dom_classes": [],
            "description": "",
            "_model_name": "HTMLModel",
            "placeholder": "​",
            "_view_module": "@jupyter-widgets/controls",
            "_model_module_version": "1.5.0",
            "value": " 1654784/? [00:01&lt;00:00, 1515713.46it/s]",
            "_view_count": null,
            "_view_module_version": "1.5.0",
            "description_tooltip": null,
            "_model_module": "@jupyter-widgets/controls",
            "layout": "IPY_MODEL_652ca8ea4384480a84fb2f65463a81fe"
          }
        },
        "f7d35780ebe145c0aa37056c4f31c810": {
          "model_module": "@jupyter-widgets/controls",
          "model_name": "ProgressStyleModel",
          "state": {
            "_view_name": "StyleView",
            "_model_name": "ProgressStyleModel",
            "description_width": "initial",
            "_view_module": "@jupyter-widgets/base",
            "_model_module_version": "1.5.0",
            "_view_count": null,
            "_view_module_version": "1.2.0",
            "bar_color": null,
            "_model_module": "@jupyter-widgets/controls"
          }
        },
        "05fe6e7a10944f949dbf3a51bfba56e2": {
          "model_module": "@jupyter-widgets/base",
          "model_name": "LayoutModel",
          "state": {
            "_view_name": "LayoutView",
            "grid_template_rows": null,
            "right": null,
            "justify_content": null,
            "_view_module": "@jupyter-widgets/base",
            "overflow": null,
            "_model_module_version": "1.2.0",
            "_view_count": null,
            "flex_flow": null,
            "width": null,
            "min_width": null,
            "border": null,
            "align_items": null,
            "bottom": null,
            "_model_module": "@jupyter-widgets/base",
            "top": null,
            "grid_column": null,
            "overflow_y": null,
            "overflow_x": null,
            "grid_auto_flow": null,
            "grid_area": null,
            "grid_template_columns": null,
            "flex": null,
            "_model_name": "LayoutModel",
            "justify_items": null,
            "grid_row": null,
            "max_height": null,
            "align_content": null,
            "visibility": null,
            "align_self": null,
            "height": null,
            "min_height": null,
            "padding": null,
            "grid_auto_rows": null,
            "grid_gap": null,
            "max_width": null,
            "order": null,
            "_view_module_version": "1.2.0",
            "grid_template_areas": null,
            "object_position": null,
            "object_fit": null,
            "grid_auto_columns": null,
            "margin": null,
            "display": null,
            "left": null
          }
        },
        "5459442621e6429fb479e80c8098c6e6": {
          "model_module": "@jupyter-widgets/controls",
          "model_name": "DescriptionStyleModel",
          "state": {
            "_view_name": "StyleView",
            "_model_name": "DescriptionStyleModel",
            "description_width": "",
            "_view_module": "@jupyter-widgets/base",
            "_model_module_version": "1.5.0",
            "_view_count": null,
            "_view_module_version": "1.2.0",
            "_model_module": "@jupyter-widgets/controls"
          }
        },
        "652ca8ea4384480a84fb2f65463a81fe": {
          "model_module": "@jupyter-widgets/base",
          "model_name": "LayoutModel",
          "state": {
            "_view_name": "LayoutView",
            "grid_template_rows": null,
            "right": null,
            "justify_content": null,
            "_view_module": "@jupyter-widgets/base",
            "overflow": null,
            "_model_module_version": "1.2.0",
            "_view_count": null,
            "flex_flow": null,
            "width": null,
            "min_width": null,
            "border": null,
            "align_items": null,
            "bottom": null,
            "_model_module": "@jupyter-widgets/base",
            "top": null,
            "grid_column": null,
            "overflow_y": null,
            "overflow_x": null,
            "grid_auto_flow": null,
            "grid_area": null,
            "grid_template_columns": null,
            "flex": null,
            "_model_name": "LayoutModel",
            "justify_items": null,
            "grid_row": null,
            "max_height": null,
            "align_content": null,
            "visibility": null,
            "align_self": null,
            "height": null,
            "min_height": null,
            "padding": null,
            "grid_auto_rows": null,
            "grid_gap": null,
            "max_width": null,
            "order": null,
            "_view_module_version": "1.2.0",
            "grid_template_areas": null,
            "object_position": null,
            "object_fit": null,
            "grid_auto_columns": null,
            "margin": null,
            "display": null,
            "left": null
          }
        },
        "a3864da05af546faae925d61550917c0": {
          "model_module": "@jupyter-widgets/controls",
          "model_name": "HBoxModel",
          "state": {
            "_view_name": "HBoxView",
            "_dom_classes": [],
            "_model_name": "HBoxModel",
            "_view_module": "@jupyter-widgets/controls",
            "_model_module_version": "1.5.0",
            "_view_count": null,
            "_view_module_version": "1.5.0",
            "box_style": "",
            "layout": "IPY_MODEL_5d4fa8a7772f4a0b80007f19cfc72d2a",
            "_model_module": "@jupyter-widgets/controls",
            "children": [
              "IPY_MODEL_97ca73db02dc4fcfbe411df9bdee3b55",
              "IPY_MODEL_0ce15fdcd1584786a04f3c5ebcec5232"
            ]
          }
        },
        "5d4fa8a7772f4a0b80007f19cfc72d2a": {
          "model_module": "@jupyter-widgets/base",
          "model_name": "LayoutModel",
          "state": {
            "_view_name": "LayoutView",
            "grid_template_rows": null,
            "right": null,
            "justify_content": null,
            "_view_module": "@jupyter-widgets/base",
            "overflow": null,
            "_model_module_version": "1.2.0",
            "_view_count": null,
            "flex_flow": null,
            "width": null,
            "min_width": null,
            "border": null,
            "align_items": null,
            "bottom": null,
            "_model_module": "@jupyter-widgets/base",
            "top": null,
            "grid_column": null,
            "overflow_y": null,
            "overflow_x": null,
            "grid_auto_flow": null,
            "grid_area": null,
            "grid_template_columns": null,
            "flex": null,
            "_model_name": "LayoutModel",
            "justify_items": null,
            "grid_row": null,
            "max_height": null,
            "align_content": null,
            "visibility": null,
            "align_self": null,
            "height": null,
            "min_height": null,
            "padding": null,
            "grid_auto_rows": null,
            "grid_gap": null,
            "max_width": null,
            "order": null,
            "_view_module_version": "1.2.0",
            "grid_template_areas": null,
            "object_position": null,
            "object_fit": null,
            "grid_auto_columns": null,
            "margin": null,
            "display": null,
            "left": null
          }
        },
        "97ca73db02dc4fcfbe411df9bdee3b55": {
          "model_module": "@jupyter-widgets/controls",
          "model_name": "FloatProgressModel",
          "state": {
            "_view_name": "ProgressView",
            "style": "IPY_MODEL_c2c8947b38114b5e9fc968f59cf6abd7",
            "_dom_classes": [],
            "description": "",
            "_model_name": "FloatProgressModel",
            "bar_style": "success",
            "max": 1,
            "_view_module": "@jupyter-widgets/controls",
            "_model_module_version": "1.5.0",
            "value": 1,
            "_view_count": null,
            "_view_module_version": "1.5.0",
            "orientation": "horizontal",
            "min": 0,
            "description_tooltip": null,
            "_model_module": "@jupyter-widgets/controls",
            "layout": "IPY_MODEL_61237ea3d56f4eca8bae31d366263c06"
          }
        },
        "0ce15fdcd1584786a04f3c5ebcec5232": {
          "model_module": "@jupyter-widgets/controls",
          "model_name": "HTMLModel",
          "state": {
            "_view_name": "HTMLView",
            "style": "IPY_MODEL_1307500e37fb4f53a6ac39d9a6c39737",
            "_dom_classes": [],
            "description": "",
            "_model_name": "HTMLModel",
            "placeholder": "​",
            "_view_module": "@jupyter-widgets/controls",
            "_model_module_version": "1.5.0",
            "value": " 8192/? [00:00&lt;00:00, 21604.37it/s]",
            "_view_count": null,
            "_view_module_version": "1.5.0",
            "description_tooltip": null,
            "_model_module": "@jupyter-widgets/controls",
            "layout": "IPY_MODEL_57e534559148462287e1be9918a1abad"
          }
        },
        "c2c8947b38114b5e9fc968f59cf6abd7": {
          "model_module": "@jupyter-widgets/controls",
          "model_name": "ProgressStyleModel",
          "state": {
            "_view_name": "StyleView",
            "_model_name": "ProgressStyleModel",
            "description_width": "initial",
            "_view_module": "@jupyter-widgets/base",
            "_model_module_version": "1.5.0",
            "_view_count": null,
            "_view_module_version": "1.2.0",
            "bar_color": null,
            "_model_module": "@jupyter-widgets/controls"
          }
        },
        "61237ea3d56f4eca8bae31d366263c06": {
          "model_module": "@jupyter-widgets/base",
          "model_name": "LayoutModel",
          "state": {
            "_view_name": "LayoutView",
            "grid_template_rows": null,
            "right": null,
            "justify_content": null,
            "_view_module": "@jupyter-widgets/base",
            "overflow": null,
            "_model_module_version": "1.2.0",
            "_view_count": null,
            "flex_flow": null,
            "width": null,
            "min_width": null,
            "border": null,
            "align_items": null,
            "bottom": null,
            "_model_module": "@jupyter-widgets/base",
            "top": null,
            "grid_column": null,
            "overflow_y": null,
            "overflow_x": null,
            "grid_auto_flow": null,
            "grid_area": null,
            "grid_template_columns": null,
            "flex": null,
            "_model_name": "LayoutModel",
            "justify_items": null,
            "grid_row": null,
            "max_height": null,
            "align_content": null,
            "visibility": null,
            "align_self": null,
            "height": null,
            "min_height": null,
            "padding": null,
            "grid_auto_rows": null,
            "grid_gap": null,
            "max_width": null,
            "order": null,
            "_view_module_version": "1.2.0",
            "grid_template_areas": null,
            "object_position": null,
            "object_fit": null,
            "grid_auto_columns": null,
            "margin": null,
            "display": null,
            "left": null
          }
        },
        "1307500e37fb4f53a6ac39d9a6c39737": {
          "model_module": "@jupyter-widgets/controls",
          "model_name": "DescriptionStyleModel",
          "state": {
            "_view_name": "StyleView",
            "_model_name": "DescriptionStyleModel",
            "description_width": "",
            "_view_module": "@jupyter-widgets/base",
            "_model_module_version": "1.5.0",
            "_view_count": null,
            "_view_module_version": "1.2.0",
            "_model_module": "@jupyter-widgets/controls"
          }
        },
        "57e534559148462287e1be9918a1abad": {
          "model_module": "@jupyter-widgets/base",
          "model_name": "LayoutModel",
          "state": {
            "_view_name": "LayoutView",
            "grid_template_rows": null,
            "right": null,
            "justify_content": null,
            "_view_module": "@jupyter-widgets/base",
            "overflow": null,
            "_model_module_version": "1.2.0",
            "_view_count": null,
            "flex_flow": null,
            "width": null,
            "min_width": null,
            "border": null,
            "align_items": null,
            "bottom": null,
            "_model_module": "@jupyter-widgets/base",
            "top": null,
            "grid_column": null,
            "overflow_y": null,
            "overflow_x": null,
            "grid_auto_flow": null,
            "grid_area": null,
            "grid_template_columns": null,
            "flex": null,
            "_model_name": "LayoutModel",
            "justify_items": null,
            "grid_row": null,
            "max_height": null,
            "align_content": null,
            "visibility": null,
            "align_self": null,
            "height": null,
            "min_height": null,
            "padding": null,
            "grid_auto_rows": null,
            "grid_gap": null,
            "max_width": null,
            "order": null,
            "_view_module_version": "1.2.0",
            "grid_template_areas": null,
            "object_position": null,
            "object_fit": null,
            "grid_auto_columns": null,
            "margin": null,
            "display": null,
            "left": null
          }
        }
      }
    }
  },
  "cells": [
    {
      "cell_type": "markdown",
      "metadata": {
        "id": "view-in-github",
        "colab_type": "text"
      },
      "source": [
        "<a href=\"https://colab.research.google.com/github/gusujio/neural_networks_start/blob/master/%D0%BF%D0%B5%D1%80%D0%B2%D0%B0%D1%8F_%D1%81%D0%B2%D0%B5%D1%80%D1%82%D0%BE%D1%87%D0%BD%D0%B0%D1%8F_%D1%81%D0%B5%D1%82%D1%8C2.ipynb\" target=\"_parent\"><img src=\"https://colab.research.google.com/assets/colab-badge.svg\" alt=\"Open In Colab\"/></a>"
      ]
    },
    {
      "cell_type": "code",
      "metadata": {
        "id": "rbrpcnq6uIcv",
        "colab_type": "code",
        "colab": {}
      },
      "source": [
        "import torch\n",
        "import random\n",
        "import numpy as np\n",
        "\n",
        "random.seed(0)\n",
        "np.random.seed(0)\n",
        "torch.manual_seed(0)\n",
        "torch.cuda.manual_seed(0)\n",
        "torch.backends.cudnn.deterministic = True"
      ],
      "execution_count": null,
      "outputs": []
    },
    {
      "cell_type": "code",
      "metadata": {
        "id": "aKY2c2umuMVU",
        "colab_type": "code",
        "colab": {}
      },
      "source": [
        "import torchvision.datasets"
      ],
      "execution_count": null,
      "outputs": []
    },
    {
      "cell_type": "code",
      "metadata": {
        "id": "qP6uh_YauPwF",
        "colab_type": "code",
        "colab": {
          "base_uri": "https://localhost:8080/",
          "height": 403,
          "referenced_widgets": [
            "9f6cc557f84b4c3199b395f4678dc226",
            "9bb9643e2e344ed2846ac51f5c088f8f",
            "b0e363458f7d480ea51ef4d7b1f7301f",
            "feaa4245d6c7419186d3456f2f220217",
            "3293e33881ac45d98bf06307ac2998ab",
            "a80431e2ac85453c9daf1bac88977863",
            "6c802e50134e4c36b0f9836830c08ac5",
            "f67daf7b815244d3bd7b6f7d49b6492c",
            "ede0001d01544a58ab8dbda03684c80d",
            "7ab651cdbc54461f91d5cc1a00844111",
            "270507086f9e4067a6db876a4ca76d62",
            "032df6154889496eafd2cf7d1e5285e2",
            "660c0a905a6944ef94a5d9e2060dde7f",
            "50a887021f0c427a88274590b3fa59a9",
            "222caaa89ad646aeadf636ed7a023db0",
            "e41c6e956ad14fffacaabc6b5b9349fc",
            "f4804e2370db438cb42f5ceee30d2f0b",
            "5bd3f1ab033748b3b66e3e1c4b08f510",
            "c0a3aa22262e41c09a948822b1d9ecdd",
            "433143f35c3c4013a37ec1e5ee416378",
            "f7d35780ebe145c0aa37056c4f31c810",
            "05fe6e7a10944f949dbf3a51bfba56e2",
            "5459442621e6429fb479e80c8098c6e6",
            "652ca8ea4384480a84fb2f65463a81fe",
            "a3864da05af546faae925d61550917c0",
            "5d4fa8a7772f4a0b80007f19cfc72d2a",
            "97ca73db02dc4fcfbe411df9bdee3b55",
            "0ce15fdcd1584786a04f3c5ebcec5232",
            "c2c8947b38114b5e9fc968f59cf6abd7",
            "61237ea3d56f4eca8bae31d366263c06",
            "1307500e37fb4f53a6ac39d9a6c39737",
            "57e534559148462287e1be9918a1abad"
          ]
        },
        "outputId": "589cc6ce-0bca-4927-87a0-17f824db7886"
      },
      "source": [
        "MNIST_train = torchvision.datasets.MNIST('./', download=True, train=True)\n",
        "MNIST_test = torchvision.datasets.MNIST('./', download=True, train=False)"
      ],
      "execution_count": null,
      "outputs": [
        {
          "output_type": "stream",
          "text": [
            "Downloading http://yann.lecun.com/exdb/mnist/train-images-idx3-ubyte.gz to ./MNIST/raw/train-images-idx3-ubyte.gz\n"
          ],
          "name": "stdout"
        },
        {
          "output_type": "display_data",
          "data": {
            "application/vnd.jupyter.widget-view+json": {
              "model_id": "9f6cc557f84b4c3199b395f4678dc226",
              "version_minor": 0,
              "version_major": 2
            },
            "text/plain": [
              "HBox(children=(FloatProgress(value=1.0, bar_style='info', max=1.0), HTML(value='')))"
            ]
          },
          "metadata": {
            "tags": []
          }
        },
        {
          "output_type": "stream",
          "text": [
            "Extracting ./MNIST/raw/train-images-idx3-ubyte.gz to ./MNIST/raw\n",
            "Downloading http://yann.lecun.com/exdb/mnist/train-labels-idx1-ubyte.gz to ./MNIST/raw/train-labels-idx1-ubyte.gz\n"
          ],
          "name": "stdout"
        },
        {
          "output_type": "display_data",
          "data": {
            "application/vnd.jupyter.widget-view+json": {
              "model_id": "ede0001d01544a58ab8dbda03684c80d",
              "version_minor": 0,
              "version_major": 2
            },
            "text/plain": [
              "HBox(children=(FloatProgress(value=1.0, bar_style='info', max=1.0), HTML(value='')))"
            ]
          },
          "metadata": {
            "tags": []
          }
        },
        {
          "output_type": "stream",
          "text": [
            "Extracting ./MNIST/raw/train-labels-idx1-ubyte.gz to ./MNIST/raw\n",
            "Downloading http://yann.lecun.com/exdb/mnist/t10k-images-idx3-ubyte.gz to ./MNIST/raw/t10k-images-idx3-ubyte.gz\n"
          ],
          "name": "stdout"
        },
        {
          "output_type": "display_data",
          "data": {
            "application/vnd.jupyter.widget-view+json": {
              "model_id": "f4804e2370db438cb42f5ceee30d2f0b",
              "version_minor": 0,
              "version_major": 2
            },
            "text/plain": [
              "HBox(children=(FloatProgress(value=1.0, bar_style='info', max=1.0), HTML(value='')))"
            ]
          },
          "metadata": {
            "tags": []
          }
        },
        {
          "output_type": "stream",
          "text": [
            "Extracting ./MNIST/raw/t10k-images-idx3-ubyte.gz to ./MNIST/raw\n",
            "Downloading http://yann.lecun.com/exdb/mnist/t10k-labels-idx1-ubyte.gz to ./MNIST/raw/t10k-labels-idx1-ubyte.gz\n"
          ],
          "name": "stdout"
        },
        {
          "output_type": "display_data",
          "data": {
            "application/vnd.jupyter.widget-view+json": {
              "model_id": "a3864da05af546faae925d61550917c0",
              "version_minor": 0,
              "version_major": 2
            },
            "text/plain": [
              "HBox(children=(FloatProgress(value=1.0, bar_style='info', max=1.0), HTML(value='')))"
            ]
          },
          "metadata": {
            "tags": []
          }
        },
        {
          "output_type": "stream",
          "text": [
            "Extracting ./MNIST/raw/t10k-labels-idx1-ubyte.gz to ./MNIST/raw\n",
            "Processing...\n",
            "Done!\n",
            "\n",
            "\n",
            "\n"
          ],
          "name": "stdout"
        },
        {
          "output_type": "stream",
          "text": [
            "/pytorch/torch/csrc/utils/tensor_numpy.cpp:141: UserWarning: The given NumPy array is not writeable, and PyTorch does not support non-writeable tensors. This means you can write to the underlying (supposedly non-writeable) NumPy array using the tensor. You may want to copy the array to protect its data or make it writeable before converting it to a tensor. This type of warning will be suppressed for the rest of this program.\n"
          ],
          "name": "stderr"
        }
      ]
    },
    {
      "cell_type": "code",
      "metadata": {
        "id": "N31aLoZpuSPg",
        "colab_type": "code",
        "colab": {
          "base_uri": "https://localhost:8080/",
          "height": 153
        },
        "outputId": "ba6c4034-607f-4056-c7a3-da795d6710c6"
      },
      "source": [
        "X_train = MNIST_train.train_data\n",
        "y_train = MNIST_train.train_labels\n",
        "X_test = MNIST_test.test_data\n",
        "y_test = MNIST_test.test_labels"
      ],
      "execution_count": null,
      "outputs": [
        {
          "output_type": "stream",
          "text": [
            "/usr/local/lib/python3.6/dist-packages/torchvision/datasets/mnist.py:55: UserWarning: train_data has been renamed data\n",
            "  warnings.warn(\"train_data has been renamed data\")\n",
            "/usr/local/lib/python3.6/dist-packages/torchvision/datasets/mnist.py:45: UserWarning: train_labels has been renamed targets\n",
            "  warnings.warn(\"train_labels has been renamed targets\")\n",
            "/usr/local/lib/python3.6/dist-packages/torchvision/datasets/mnist.py:60: UserWarning: test_data has been renamed data\n",
            "  warnings.warn(\"test_data has been renamed data\")\n",
            "/usr/local/lib/python3.6/dist-packages/torchvision/datasets/mnist.py:50: UserWarning: test_labels has been renamed targets\n",
            "  warnings.warn(\"test_labels has been renamed targets\")\n"
          ],
          "name": "stderr"
        }
      ]
    },
    {
      "cell_type": "code",
      "metadata": {
        "id": "TZ0i4dITuUh5",
        "colab_type": "code",
        "colab": {
          "base_uri": "https://localhost:8080/",
          "height": 34
        },
        "outputId": "97b7f57b-8912-4bce-99a3-ebbf5c016429"
      },
      "source": [
        "len(y_train), len(y_test)"
      ],
      "execution_count": null,
      "outputs": [
        {
          "output_type": "execute_result",
          "data": {
            "text/plain": [
              "(60000, 10000)"
            ]
          },
          "metadata": {
            "tags": []
          },
          "execution_count": 5
        }
      ]
    },
    {
      "cell_type": "code",
      "metadata": {
        "id": "ZjplhOR0uWZO",
        "colab_type": "code",
        "colab": {
          "base_uri": "https://localhost:8080/",
          "height": 282
        },
        "outputId": "5dafc456-0b95-4f90-97c6-674b67d04386"
      },
      "source": [
        "import matplotlib.pyplot as plt\n",
        "plt.imshow(X_train[0, :, :])\n",
        "plt.show()\n",
        "print(y_train[0])"
      ],
      "execution_count": null,
      "outputs": [
        {
          "output_type": "display_data",
          "data": {
            "image/png": "[encoded data removed]",
            "text/plain": [
              "<Figure size 432x288 with 1 Axes>"
            ]
          },
          "metadata": {
            "tags": [],
            "needs_background": "light"
          }
        },
        {
          "output_type": "stream",
          "text": [
            "tensor(5)\n"
          ],
          "name": "stdout"
        }
      ]
    },
    {
      "cell_type": "code",
      "metadata": {
        "id": "2dYo-uovuYj7",
        "colab_type": "code",
        "colab": {}
      },
      "source": [
        "X_train = X_train.unsqueeze(1).float()\n",
        "X_test = X_test.unsqueeze(1).float()"
      ],
      "execution_count": null,
      "outputs": []
    },
    {
      "cell_type": "code",
      "metadata": {
        "id": "px4ZZfoNubvE",
        "colab_type": "code",
        "colab": {
          "base_uri": "https://localhost:8080/",
          "height": 34
        },
        "outputId": "70d70d1c-0033-45d4-cc5f-a1a6889216f5"
      },
      "source": [
        "X_train.shape"
      ],
      "execution_count": null,
      "outputs": [
        {
          "output_type": "execute_result",
          "data": {
            "text/plain": [
              "torch.Size([60000, 1, 28, 28])"
            ]
          },
          "metadata": {
            "tags": []
          },
          "execution_count": 8
        }
      ]
    },
    {
      "cell_type": "markdown",
      "metadata": {
        "id": "JFPoYJo_vKWf",
        "colab_type": "text"
      },
      "source": [
        "Давайте видеоизменим LeNet чтобы повысить качество на валидации. У нас есть некоторые вещи которые неплохо было бы исправить. Например, активации: сейчас уже никто не использует активации тангенсами, потому что они приводят к затуханию градиента -- вы не можете построить действительно глубокую сеть, чтобы ваши ошибки, посчитанные и в конце сети хорошо прокидывались к началу сети. Тангенсы или сигмоиды приводят к тому, что у вас сигнал очень быстро затухает. Во-вторых сейчас мало кто использует свёртки 5 на 5. Практически все сети свёртки 5 на 5 заменяют на подряд идущие две свёртки 3 на 3. Почему так делается? Потому что в 5 на 5 -- 25 весов, как можно легко догадаться, а вот в двух свёртках 3 на 3 -- в одной свёртке 9 весов, и в другой 9 весов -- получается 18 весов. А, в принципе, тот объём многообразия, которое позволяет применение двух последовательных сверток, аналогичен одной свёртке 5 на 5. Весов меньше -- наверное, будет меньше переобучения. В-третьих у нас тут используется average pooling, но average pooling уже нигде не используется, кроме как в самом конце сети. Сейчас используются везде max pooling. Давайте это тоже поправим. И последний момент -- это батч-нормализация, которая призвана ускорять обучение. Кажется, тут её тоже логично применить. Давайте все эти пункты мы возьмём и попробуем."
      ]
    },
    {
      "cell_type": "code",
      "metadata": {
        "id": "6Jwlcf0vudaV",
        "colab_type": "code",
        "colab": {}
      },
      "source": [
        "class LeNet5(torch.nn.Module):\n",
        "    def __init__(self,\n",
        "                 activation='tanh',\n",
        "                 pooling='avg',\n",
        "                 conv_size=5,\n",
        "                 use_batch_norm=False):\n",
        "        super(LeNet5, self).__init__()\n",
        "        \n",
        "        self.conv_size = conv_size\n",
        "        self.use_batch_norm = use_batch_norm\n",
        "        \n",
        "        if activation == 'tanh':\n",
        "            activation_function = torch.nn.Tanh()\n",
        "        elif activation == 'relu':\n",
        "            activation_function  = torch.nn.ReLU()\n",
        "        else:\n",
        "            raise NotImplementedError\n",
        "            \n",
        "        if pooling == 'avg':\n",
        "            pooling_layer = torch.nn.AvgPool2d(kernel_size=2, stride=2)\n",
        "        elif pooling == 'max':\n",
        "            pooling_layer  = torch.nn.MaxPool2d(kernel_size=2, stride=2)\n",
        "        else:\n",
        "            raise NotImplementedError\n",
        "\n",
        "        if conv_size == 5:\n",
        "            self.conv1 = torch.nn.Conv2d(\n",
        "                in_channels=1, out_channels=6, kernel_size=5, padding=2)\n",
        "        elif conv_size == 3:\n",
        "            self.conv1_1 = torch.nn.Conv2d(\n",
        "                in_channels=1, out_channels=6, kernel_size=3, padding=1)\n",
        "            self.conv1_2 = torch.nn.Conv2d(\n",
        "                in_channels=6, out_channels=6, kernel_size=3, padding=1)\n",
        "        else:\n",
        "            raise NotImplementedError\n",
        "\n",
        "        self.act1 = activation_function\n",
        "# И на вход нужно передать num_features, то есть то количество каналов,\n",
        "#  которое имеет картинка или тензор перед батч-нормализацией.\n",
        "        self.bn1 = torch.nn.BatchNorm2d(num_features=6) \n",
        "        self.pool1 = pooling_layer\n",
        "       \n",
        "        if conv_size == 5:\n",
        "            self.conv2 = self.conv2 = torch.nn.Conv2d(\n",
        "                in_channels=6, out_channels=16, kernel_size=5, padding=0)\n",
        "        elif conv_size == 3:\n",
        "            self.conv2_1 = torch.nn.Conv2d(\n",
        "                in_channels=6, out_channels=16, kernel_size=3, padding=0)\n",
        "            self.conv2_2 = torch.nn.Conv2d(\n",
        "                in_channels=16, out_channels=16, kernel_size=3, padding=0)\n",
        "        else:\n",
        "            raise NotImplementedError\n",
        "\n",
        "        self.act2 = activation_function\n",
        "        self.bn2 = torch.nn.BatchNorm2d(num_features=16)\n",
        "        self.pool2 = pooling_layer\n",
        "        \n",
        "        self.fc1 = torch.nn.Linear(5 * 5 * 16, 120)\n",
        "        self.act3 = activation_function    \n",
        "\n",
        "        self.fc2 = torch.nn.Linear(120, 84)\n",
        "        self.act4 = activation_function\n",
        "        \n",
        "        self.fc3 = torch.nn.Linear(84, 10)\n",
        "    \n",
        "    def forward(self, x):\n",
        "        if self.conv_size == 5:\n",
        "            x = self.conv1(x)\n",
        "        elif self.conv_size == 3:\n",
        "            x = self.conv1_2(self.conv1_1(x))\n",
        "        x = self.act1(x)\n",
        "        if self.use_batch_norm:\n",
        "            x = self.bn1(x)\n",
        "        x = self.pool1(x)\n",
        "        \n",
        "        if self.conv_size == 5:\n",
        "            x = self.conv2(x)\n",
        "        elif self.conv_size == 3:\n",
        "            x = self.conv2_2(self.conv2_1(x))\n",
        "        x = self.act2(x)\n",
        "        if self.use_batch_norm:\n",
        "            x = self.bn2(x)\n",
        "        x = self.pool2(x)\n",
        "        \n",
        "        x = x.view(x.size(0), x.size(1) * x.size(2) * x.size(3))\n",
        "        x = self.fc1(x)\n",
        "        x = self.act3(x)\n",
        "        x = self.fc2(x)\n",
        "        x = self.act4(x)\n",
        "        x = self.fc3(x)\n",
        "        \n",
        "        return x                "
      ],
      "execution_count": null,
      "outputs": []
    },
    {
      "cell_type": "markdown",
      "metadata": {
        "id": "SH0fdvBkwdDe",
        "colab_type": "text"
      },
      "source": [
        "Единственный момент, который мы должны не забыть добавить в процесс обучения, связанный тоже с батч-нормализацией -- это некоторый флажок: либо сеть находится в состоянии тренировки (и, соответственно, мы должны проставить \"net.train\"), либо сеть находится в состоянии \"evaluation\", (который проставляется с помощью \"net.eval\"). Зачем это нужно? Пока мы не использовали батч-нормализацию, нам не нужно было проставлять эти флажки -- сеть находится в \"train\" режиме, или в \"evaluation\". Но дело в том, что батч-нормализация происходит не в момент вычисления градиентов (не в момент backward), а в момент forward. То есть каждый раз, когда мы проходим картинкой по сети в forward-направлении у нас заново обучаются/подгоняются параметры математического ожидания и стандартного отклонения в batch-norm слое. И, соответственно, чтобы этого не происходило, мы должны явно сказать batch-norm слою, что у нас сеть не обучается, а мы её тестируем, чтобы он не изменял эти параметры математического ожидания и стандартного отклонения. Иначе у нас будет сетка изменяться, когда мы это выпустим куда-то в продакшн. "
      ]
    },
    {
      "cell_type": "code",
      "metadata": {
        "id": "83oGN8z6wdod",
        "colab_type": "code",
        "colab": {}
      },
      "source": [
        "def train(net, X_train, y_train, X_test, y_test):\n",
        "    device = torch.device('cuda:0' if torch.cuda.is_available() else 'cpu')\n",
        "    net = net.to(device)\n",
        "    loss = torch.nn.CrossEntropyLoss()\n",
        "    optimizer = torch.optim.Adam(net.parameters(), lr=1.0e-3)\n",
        "    \n",
        "    batch_size = 100\n",
        "\n",
        "    test_accuracy_history = []\n",
        "    test_loss_history = []\n",
        "\n",
        "    X_test = X_test.to(device)\n",
        "    y_test = y_test.to(device)\n",
        "\n",
        "    for epoch in range(30):\n",
        "        order = np.random.permutation(len(X_train))\n",
        "        for start_index in range(0, len(X_train), batch_size):\n",
        "            optimizer.zero_grad()\n",
        "            net.train()\n",
        "\n",
        "            batch_indexes = order[start_index:start_index+batch_size]\n",
        "\n",
        "            X_batch = X_train[batch_indexes].to(device)\n",
        "            y_batch = y_train[batch_indexes].to(device)\n",
        "\n",
        "            preds = net.forward(X_batch) \n",
        "\n",
        "            loss_value = loss(preds, y_batch)\n",
        "            loss_value.backward()\n",
        "\n",
        "            optimizer.step()\n",
        "\n",
        "        net.eval()\n",
        "        test_preds = net.forward(X_test)\n",
        "        test_loss_history.append(loss(test_preds, y_test).data.cpu())\n",
        "\n",
        "        accuracy = (test_preds.argmax(dim=1) == y_test).float().mean().data.cpu()\n",
        "        test_accuracy_history.append(accuracy)\n",
        "\n",
        "        print(accuracy)\n",
        "    print('---------------')\n",
        "    return test_accuracy_history, test_loss_history\n",
        "\n",
        "accuracies = {}\n",
        "losses = {}\n",
        "\n",
        "# Мы запустим несколько экспериментов. Сперва мы заменим активизацию тангенс на ReLU. \n",
        "# Потом мы разобьём слой 5 на 5 на два слоя 3 на 3. \n",
        "# После этого мы изменим pooling -- скажем, что у нас теперь не average pooling,\n",
        "#  а max pooling. И в конце мы добавим батч-нормализацию после двух конволюционных слоёв.\n",
        "\n",
        "accuracies['tanh'], losses['tanh'] = \\\n",
        "    train(LeNet5(activation='tanh', conv_size=5),\n",
        "          X_train, y_train, X_test, y_test)\n",
        "\n",
        "accuracies['relu'], losses['relu'] = \\\n",
        "    train(LeNet5(activation='relu', conv_size=5),\n",
        "          X_train, y_train, X_test, y_test)\n",
        "\n",
        "accuracies['relu_3'], losses['relu_3'] = \\\n",
        "    train(LeNet5(activation='relu', conv_size=3),\n",
        "          X_train, y_train, X_test, y_test)\n",
        "\n",
        "accuracies['relu_3_max_pool'], losses['relu_3_max_pool'] = \\\n",
        "    train(LeNet5(activation='relu', conv_size=3, pooling='max'), \n",
        "          X_train, y_train, X_test, y_test)\n",
        "\n",
        "accuracies['relu_3_max_pool_bn'], losses['relu_3_max_pool_bn'] = \\\n",
        "    train(LeNet5(activation='relu', conv_size=3, pooling='max', use_batch_norm=True), \n",
        "          X_train, y_train, X_test, y_test)            "
      ],
      "execution_count": null,
      "outputs": []
    },
    {
      "cell_type": "code",
      "metadata": {
        "id": "DqY6NHZ2ws8y",
        "colab_type": "code",
        "colab": {}
      },
      "source": [
        "for experiment_id in accuracies.keys():\n",
        "    plt.plot(accuracies[experiment_id], label=experiment_id)\n",
        "plt.legend()\n",
        "plt.title('Validation Accuracy');"
      ],
      "execution_count": null,
      "outputs": []
    },
    {
      "cell_type": "markdown",
      "metadata": {
        "id": "J0q2NLrNyHv9",
        "colab_type": "text"
      },
      "source": [
        "Мы видим, что обучилось 30 эпох. Синим графиком обозначен самый стандартный вариант. Он доходит до качества 0.99. В принципе, все графики примерно доходят до одинакового качества на валидации, что, скорее, говорит о том, что задача, в принципе, решена. Качество в 99.2% -- уже довольно хорошее. И далее нейросеть просто колеблется возле этой точки оптимума. Когда график accuracy не показателен, можно обратиться к графику лосс -- в данном случае у нас лосс -- это кросс-энтропия. Чем меньше значение кросс-энтропии -- тем лучше, мы его минимизировали. Синий график (который у нас \"тангенс\") -- он является не самым низким, то есть это не самое лучшее качество с точки зрения лосс-функции. Самое лучшее качество, наверняка, достигается с \"relu_3\", то есть конволюции 3 на 3 побеждают (немножко). И видно, что они не так сильно переобучаются: после десятой эпохи видно, что все графики немножко растут. Это говорит о том, что сеть начинает переобучаться, то есть запоминать наш датасет. И, так как у нас красный график идёт ниже, чем синий, в плане переобучения, то, наверное, именно то, что мы изменили конволюцию с 5 на 5 на 3 на 3, и, соответственно, уменьшили количество весов, дало такой результат -- что сети сложнее переобучиться, подстроить веса под текущий, существующий датасет. Кроме того видно, что max pooling нам не принесли никакого результата. Они только ухудшают обучение, но не всегда результаты интуитивны. Конкретно для этой задачи, конкретно для этой сети происходит так. Кроме того, видно что батч-нормализация, которая призвана ускорять обучение, тут ничего не ускоряет. То есть у нас лосc -- как падал за две-три эпохи до минимума, так он и падает за две три эпохи до минимума. Но, наверное, тут дело в том, что мы довольно быстро выучиваем датасет, и что-то ускорять тут уже невозможно. Возможно, нам стоит взять более сложный датасет, где качество будет немножко похуже, и тогда мы посмотрим различие этих добавок -- насколько они действительно влияют на результат. Здесь разницы практически нет."
      ]
    },
    {
      "cell_type": "code",
      "metadata": {
        "id": "6OgnFJsfwu3a",
        "colab_type": "code",
        "colab": {}
      },
      "source": [
        "for experiment_id in losses.keys():\n",
        "    plt.plot(losses[experiment_id], label=experiment_id)\n",
        "plt.legend()\n",
        "plt.title('Validation Loss');"
      ],
      "execution_count": null,
      "outputs": []
    },
    {
      "cell_type": "code",
      "metadata": {
        "id": "gdpaMwl3BgDT",
        "colab_type": "code",
        "colab": {}
      },
      "source": [
        "def relu(x):\n",
        "    if x > 0:\n",
        "        return x\n",
        "    return 0    "
      ],
      "execution_count": null,
      "outputs": []
    },
    {
      "cell_type": "code",
      "metadata": {
        "id": "7UOpi674BqD4",
        "colab_type": "code",
        "colab": {}
      },
      "source": [
        "import math"
      ],
      "execution_count": 19,
      "outputs": []
    },
    {
      "cell_type": "code",
      "metadata": {
        "id": "z7w7dNpgDDJg",
        "colab_type": "code",
        "colab": {
          "base_uri": "https://localhost:8080/",
          "height": 85
        },
        "outputId": "70749484-201d-4142-c530-4d59d69329d6"
      },
      "source": [
        "print('w4',(1 - math.tanh(math.tanh(math.tanh(math.tanh(100))))**2)*math.tanh(math.tanh(math.tanh(100))))\n",
        "print('w3',(1 - math.tanh(math.tanh(math.tanh(math.tanh(100))))**2)*(1-math.tanh(math.tanh(math.tanh(100)))**2)*math.tanh(math.tanh(100)))\n",
        "print('w2',(1 - math.tanh(math.tanh(math.tanh(math.tanh(100))))**2)*(1-math.tanh(math.tanh(math.tanh(100)))**2)*(1-math.tanh(math.tanh(100))**2)*math.tanh(100))\n",
        "print('w1',(1 - math.tanh(math.tanh(math.tanh(math.tanh(100))))**2)*(1 - math.tanh(math.tanh(math.tanh(100)))**2)*(1 - math.tanh(math.tanh(100))**2)*(1 - math.tanh(100)**2)*100)"
      ],
      "execution_count": 25,
      "outputs": [
        {
          "output_type": "stream",
          "text": [
            "w4 0.43614538244454387\n",
            "w3 0.30412468309754653\n",
            "w2 0.1677068587693903\n",
            "w1 0.0\n"
          ],
          "name": "stdout"
        }
      ]
    },
    {
      "cell_type": "code",
      "metadata": {
        "id": "VqaKFWgdEobM",
        "colab_type": "code",
        "colab": {}
      },
      "source": [
        ""
      ],
      "execution_count": null,
      "outputs": []
    }
  ]
}